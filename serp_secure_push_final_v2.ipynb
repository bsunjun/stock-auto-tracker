name: Run SerpApi Automator

on:
  schedule:
    - cron: '30 23 * * *'   # 매일 08:30 KST
  workflow_dispatch:

jobs:
  run-script:
    runs-on: ubuntu-latest
    env:
      SERPAPI_KEY: ${{ secrets.SERPAPI_KEY }}
      GH_TOKEN:    ${{ secrets.GH_TOKEN }}
    steps:
      - uses: actions/checkout@v4

      - uses: actions/setup-python@v5
        with: {python-version: '3.11'}

      - name: Install deps
        run: pip install requests

      - name: Run SerpApi automator
        run: python serpapi_automator.py
